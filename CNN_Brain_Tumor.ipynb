{
  "nbformat": 4,
  "nbformat_minor": 0,
  "metadata": {
    "colab": {
      "provenance": []
    },
    "kernelspec": {
      "name": "python3",
      "display_name": "Python 3"
    },
    "language_info": {
      "name": "python"
    },
    "accelerator": "GPU",
    "gpuClass": "standard"
  },
  "cells": [
    {
      "cell_type": "code",
      "execution_count": 2,
      "metadata": {
        "colab": {
          "base_uri": "https://localhost:8080/",
          "height": 0
        },
        "id": "rKc_CmmXYOky",
        "outputId": "aab248ea-d8b8-46f0-ee35-c49c958ba1b3"
      },
      "outputs": [
        {
          "output_type": "stream",
          "name": "stdout",
          "text": [
            "Mounted at /content/drive\n"
          ]
        }
      ],
      "source": [
        "from google.colab import drive\n",
        "drive.mount('/content/drive')"
      ]
    },
    {
      "cell_type": "code",
      "source": [
        "import torch\n",
        "import torchvision\n",
        "from torchvision import transforms\n",
        "import torch.nn as nn\n",
        "import torch.optim as optim\n",
        "from torch.utils.data import DataLoader\n",
        "from sklearn.model_selection import GridSearchCV\n",
        "from torchvision import datasets, transforms\n",
        "from torchvision.datasets import ImageFolder\n",
        "from torch.utils.data import DataLoader\n",
        "#from skorch import NeuralNetClassifier\n",
        "import numpy as np\n",
        "import os"
      ],
      "metadata": {
        "id": "YAzk43poYbrI"
      },
      "execution_count": 3,
      "outputs": []
    },
    {
      "cell_type": "code",
      "source": [
        "import numpy as np\n",
        "import torch\n",
        "import torch.nn as nn\n",
        "import torch.optim as optim\n",
        "from torchvision import datasets, transforms\n",
        "from torch.utils.data import DataLoader, random_split\n",
        "#from skorch import NeuralNetClassifier\n",
        "from sklearn.model_selection import GridSearchCV, StratifiedKFold\n"
      ],
      "metadata": {
        "id": "TbN_hM_7Yyas"
      },
      "execution_count": 4,
      "outputs": []
    },
    {
      "cell_type": "code",
      "source": [
        "train_path='/content/drive/MyDrive/AI project/Training'\n",
        "test_path='/content/drive/MyDrive/AI project/Testing'\n"
      ],
      "metadata": {
        "id": "O86LS2YuY_Mo"
      },
      "execution_count": 5,
      "outputs": []
    },
    {
      "cell_type": "code",
      "source": [
        "import numpy as np \n",
        "import pandas as pd \n",
        "import os\n",
        "import matplotlib.pyplot as plt\n",
        "import seaborn as sb\n",
        "sb.set_style('whitegrid')\n",
        "import tensorflow as tf\n",
        "from sklearn.model_selection import train_test_split\n",
        "from keras.utils import to_categorical\n",
        "from tensorflow.keras import layers,models,optimizers,preprocessing\n",
        "from tensorflow.keras.layers import Conv2D,Dense,MaxPooling2D,Flatten,Dropout\n",
        "\n",
        "\n",
        "\n",
        "\n",
        "main_dir = \"/content/drive/MyDrive/AI project\"\n",
        "classification_dirs = [(\"no_tumor\",), (\"meningioma_tumor\",), (\"glioma_tumor\",), (\"pituitary_tumor\",)]\n",
        "resolution = 64\n",
        "\n",
        "def load_images(root_dir_name):\n",
        "    x = []\n",
        "    y = []\n",
        "    \n",
        "    for label, sub_dir_names in enumerate(classification_dirs):\n",
        "        for sub_dir_name in sub_dir_names:\n",
        "            print(f\"loading {root_dir_name} {sub_dir_name}\")\n",
        "            sub_dir_path = os.path.join(main_dir, root_dir_name, sub_dir_name)\n",
        "            for image_name in os.listdir(sub_dir_path):\n",
        "                image_path = os.path.join(sub_dir_path, image_name)\n",
        "                image = preprocessing.image.load_img(image_path, color_mode=\"grayscale\", target_size=(resolution, resolution))\n",
        "                x.append(preprocessing.image.img_to_array(image))\n",
        "                y.append(label)\n",
        "    \n",
        "    x = np.array(x) / 255.0\n",
        "    y = to_categorical(np.array(y))\n",
        "    \n",
        "    return x,y\n",
        "\n",
        "# Load training and testing images and labels\n",
        "x_train, y_train = load_images(\"Training\")\n",
        "x_test, y_test = load_images(\"Testing\")\n",
        "\n",
        "# Split the training data into training and validation sets\n",
        "x_train, x_val, y_train, y_val = train_test_split(x_train, y_train, test_size=0.2, random_state=42)\n",
        "\n",
        "# Print the shape of the data sets\n",
        "print(\"Training set shape:\", x_train.shape, y_train.shape)\n",
        "print(\"Validation set shape:\", x_val.shape, y_val.shape)\n",
        "print(\"Testing set shape:\", x_test.shape, y_test.shape)\n"
      ],
      "metadata": {
        "colab": {
          "base_uri": "https://localhost:8080/",
          "height": 0
        },
        "id": "Yst8ea7omlJ5",
        "outputId": "eb4d8bdd-b4e7-41c9-fbca-8f7096a99164"
      },
      "execution_count": 41,
      "outputs": [
        {
          "output_type": "stream",
          "name": "stdout",
          "text": [
            "loading Training no_tumor\n",
            "loading Training meningioma_tumor\n",
            "loading Training glioma_tumor\n",
            "loading Training pituitary_tumor\n",
            "loading Testing no_tumor\n",
            "loading Testing meningioma_tumor\n",
            "loading Testing glioma_tumor\n",
            "loading Testing pituitary_tumor\n",
            "Training set shape: (2296, 64, 64, 1) (2296, 4)\n",
            "Validation set shape: (574, 64, 64, 1) (574, 4)\n",
            "Testing set shape: (394, 64, 64, 1) (394, 4)\n"
          ]
        }
      ]
    },
    {
      "cell_type": "code",
      "source": [
        "!pip install tensorflow-addons\n"
      ],
      "metadata": {
        "colab": {
          "base_uri": "https://localhost:8080/",
          "height": 0
        },
        "id": "IyYFoLM-u6Uf",
        "outputId": "2e53eb65-f713-4f8c-8a75-875a9cf6a113"
      },
      "execution_count": 36,
      "outputs": [
        {
          "output_type": "stream",
          "name": "stdout",
          "text": [
            "Looking in indexes: https://pypi.org/simple, https://us-python.pkg.dev/colab-wheels/public/simple/\n",
            "Collecting tensorflow-addons\n",
            "  Downloading tensorflow_addons-0.20.0-cp39-cp39-manylinux_2_17_x86_64.manylinux2014_x86_64.whl (591 kB)\n",
            "\u001b[2K     \u001b[90m━━━━━━━━━━━━━━━━━━━━━━━━━━━━━━━━━━━━━━\u001b[0m \u001b[32m591.0/591.0 kB\u001b[0m \u001b[31m41.4 MB/s\u001b[0m eta \u001b[36m0:00:00\u001b[0m\n",
            "\u001b[?25hRequirement already satisfied: packaging in /usr/local/lib/python3.9/dist-packages (from tensorflow-addons) (23.0)\n",
            "Collecting typeguard<3.0.0,>=2.7\n",
            "  Downloading typeguard-2.13.3-py3-none-any.whl (17 kB)\n",
            "Installing collected packages: typeguard, tensorflow-addons\n",
            "Successfully installed tensorflow-addons-0.20.0 typeguard-2.13.3\n"
          ]
        }
      ]
    },
    {
      "cell_type": "code",
      "source": [
        "from tensorflow.keras.wrappers.scikit_learn import KerasClassifier\n",
        "\n",
        "# Define input shape\n",
        "input_shape = (64, 64, 1)\n",
        "n=4\n",
        "\n",
        "# Define wrapper function that builds and returns the Keras model\n",
        "def create_model(input_shape, n, dropout_rate1, dropout_rate2):\n",
        "    model = models.Sequential()\n",
        "\n",
        "    model.add(Conv2D(32, kernel_size=(2, 2), strides=(1, 1), activation='relu', input_shape=input_shape))\n",
        "    model.add(MaxPooling2D(pool_size=(2, 2), strides=(2, 2)))\n",
        "\n",
        "    model.add(Conv2D(64, kernel_size=(2, 2), strides=(1, 1), activation='relu'))\n",
        "    model.add(MaxPooling2D(pool_size=(2, 2), strides=(2, 2)))\n",
        "\n",
        "    model.add(Conv2D(128, kernel_size=(2, 2), strides=(1, 1), activation='relu'))\n",
        "    model.add(MaxPooling2D(pool_size=(2, 2), strides=(2, 2)))\n",
        "    \n",
        "    model.add(Flatten())\n",
        "\n",
        "    model.add(Dense(units=1024, activation='relu'))\n",
        "    model.add(Dropout(dropout_rate1))\n",
        "\n",
        "    model.add(Dense(units=512, activation='relu'))\n",
        "    model.add(Dropout(dropout_rate2))\n",
        "\n",
        "    model.add(Dense(units=n, activation='softmax'))\n",
        "\n",
        "    optimizer = optimizers.Adam(lr=0.0001)\n",
        "    model.compile(optimizer=optimizer, loss='categorical_crossentropy', metrics=['accuracy'])\n",
        "\n",
        "    return model\n"
      ],
      "metadata": {
        "id": "wkh04k5pJ0ur"
      },
      "execution_count": 47,
      "outputs": []
    },
    {
      "cell_type": "code",
      "source": [
        "# from tensorflow.keras.wrappers.scikit_learn import KerasClassifier\n",
        "\n",
        "# # Define input shape\n",
        "# input_shape = (64, 64, 1)\n",
        "# n=4\n",
        "\n",
        "# # Define wrapper function that builds and returns the Keras model\n",
        "# def create_model(input_shape, n):\n",
        "#     model = models.Sequential()\n",
        "\n",
        "#     model.add(Conv2D(32, kernel_size=(2, 2), strides=(1, 1), activation='relu', input_shape=input_shape))\n",
        "#     model.add(MaxPooling2D(pool_size=(2, 2), strides=(2, 2)))\n",
        "\n",
        "#     model.add(Conv2D(64, kernel_size=(2, 2), strides=(1, 1), activation='relu'))\n",
        "#     model.add(MaxPooling2D(pool_size=(2, 2), strides=(2, 2)))\n",
        "\n",
        "#     model.add(Conv2D(128, kernel_size=(2, 2), strides=(1, 1), activation='relu'))\n",
        "#     model.add(MaxPooling2D(pool_size=(2, 2), strides=(2, 2)))\n",
        "    \n",
        "#     model.add(Flatten())\n",
        "\n",
        "#     model.add(Dense(units=1024, activation='relu'))\n",
        "#     model.add(Dropout(0.5))\n",
        "\n",
        "#     model.add(Dense(units=512, activation='relu'))\n",
        "#     model.add(Dropout(0.5))\n",
        "\n",
        "#     model.add(Dense(units=n, activation='softmax'))\n",
        "\n",
        "#     optimizer = optimizers.Adam(lr=0.0001)\n",
        "#     model.compile(optimizer=optimizer, loss='categorical_crossentropy', metrics=['accuracy'])\n",
        "\n",
        "#     return model\n",
        "\n"
      ],
      "metadata": {
        "id": "AmsyQtPXvYBl"
      },
      "execution_count": 42,
      "outputs": []
    },
    {
      "cell_type": "code",
      "source": [
        "\n",
        "\n",
        "from sklearn.model_selection import train_test_split, RandomizedSearchCV\n",
        "\n",
        "# Load training and testing images and labels\n",
        "x_train, y_train = load_images(\"Training\")\n",
        "x_test, y_test = load_images(\"Testing\")\n",
        "\n",
        "# Split training set into training and validation sets\n",
        "x_train, x_val, y_train, y_val = train_test_split(x_train, y_train, test_size=0.2, random_state=42)\n",
        "\n",
        "# Create a KerasClassifier object\n",
        "num_classes = 4  # Example value\n",
        "model = KerasClassifier(build_fn=create_model, input_shape=input_shape, n=n)\n",
        "\n",
        "\n",
        "# Define hyperparameters to tune\n",
        "batch_size = [32, 64]\n",
        "epochs = [5, 10]\n",
        "dropout_rate1 = [0.2, 0.5]\n",
        "dropout_rate2 = [0.2, 0.5]\n",
        "param_grid = dict(batch_size=batch_size, epochs=epochs,dropout_rate1=dropout_rate1, dropout_rate2=dropout_rate2)\n",
        "\n",
        "# Create a random search object\n",
        "random_search = RandomizedSearchCV(estimator=model, param_distributions=param_grid, cv=2)\n",
        "\n",
        "# Fit the random search object to the data\n",
        "random_search_results = random_search.fit(x_train, y_train, validation_data=(x_val, y_val))\n",
        "\n",
        "# Print the best parameters and accuracy\n",
        "print(\"Best parameters: \", random_search_results.best_params_)\n",
        "print(\"Best accuracy: \", random_search_results.best_score_)\n",
        "\n",
        "# Evaluate the model on the test set\n",
        "loss, accuracy = random_search_results.best_estimator_.model.evaluate(x_test, y_test, verbose=0)\n",
        "print(f\"Test loss: {loss:.4f}\")\n",
        "print(f\"Test accuracy: {accuracy:.4f}\")\n",
        "\n",
        "# Evaluate the best model on the validation set\n",
        "best_model = random_search_results.best_estimator_.model\n",
        "val_loss, val_accuracy = best_model.evaluate(x_val, y_val, verbose=0)\n",
        "print(f\"Validation loss: {val_loss:.4f}\")\n",
        "print(f\"Validation accuracy: {val_accuracy:.4f}\")\n",
        "\n"
      ],
      "metadata": {
        "colab": {
          "base_uri": "https://localhost:8080/"
        },
        "id": "zQy6wC-jyzgj",
        "outputId": "77c04044-2870-4917-8a68-b7a4cb7100a0"
      },
      "execution_count": 48,
      "outputs": [
        {
          "output_type": "stream",
          "name": "stdout",
          "text": [
            "loading Training no_tumor\n",
            "loading Training meningioma_tumor\n",
            "loading Training glioma_tumor\n",
            "loading Training pituitary_tumor\n",
            "loading Testing no_tumor\n",
            "loading Testing meningioma_tumor\n",
            "loading Testing glioma_tumor\n",
            "loading Testing pituitary_tumor\n"
          ]
        },
        {
          "output_type": "stream",
          "name": "stderr",
          "text": [
            "<ipython-input-48-a19e330465f1>:12: DeprecationWarning: KerasClassifier is deprecated, use Sci-Keras (https://github.com/adriangb/scikeras) instead. See https://www.adriangb.com/scikeras/stable/migration.html for help migrating.\n",
            "  model = KerasClassifier(build_fn=create_model, input_shape=input_shape, n=n)\n",
            "WARNING:absl:`lr` is deprecated in Keras optimizer, please use `learning_rate` or use the legacy optimizer, e.g.,tf.keras.optimizers.legacy.Adam.\n"
          ]
        },
        {
          "output_type": "stream",
          "name": "stdout",
          "text": [
            "Epoch 1/5\n",
            "36/36 [==============================] - 12s 270ms/step - loss: 1.1996 - accuracy: 0.4660 - val_loss: 0.9883 - val_accuracy: 0.6010\n",
            "Epoch 2/5\n",
            "36/36 [==============================] - 11s 298ms/step - loss: 0.8525 - accuracy: 0.6368 - val_loss: 0.9234 - val_accuracy: 0.6167\n",
            "Epoch 3/5\n",
            "36/36 [==============================] - 11s 308ms/step - loss: 0.6808 - accuracy: 0.7169 - val_loss: 0.6850 - val_accuracy: 0.7178\n",
            "Epoch 4/5\n",
            "36/36 [==============================] - 9s 243ms/step - loss: 0.5399 - accuracy: 0.7674 - val_loss: 0.5918 - val_accuracy: 0.7735\n",
            "Epoch 5/5\n",
            "36/36 [==============================] - 11s 298ms/step - loss: 0.4237 - accuracy: 0.8310 - val_loss: 0.7601 - val_accuracy: 0.7247\n",
            "36/36 [==============================] - 3s 68ms/step - loss: 0.7598 - accuracy: 0.7195\n"
          ]
        },
        {
          "output_type": "stream",
          "name": "stderr",
          "text": [
            "WARNING:absl:`lr` is deprecated in Keras optimizer, please use `learning_rate` or use the legacy optimizer, e.g.,tf.keras.optimizers.legacy.Adam.\n"
          ]
        },
        {
          "output_type": "stream",
          "name": "stdout",
          "text": [
            "Epoch 1/5\n",
            "36/36 [==============================] - 12s 288ms/step - loss: 1.2058 - accuracy: 0.4730 - val_loss: 1.0373 - val_accuracy: 0.5017\n",
            "Epoch 2/5\n",
            "36/36 [==============================] - 9s 253ms/step - loss: 0.9428 - accuracy: 0.5958 - val_loss: 0.8142 - val_accuracy: 0.6202\n",
            "Epoch 3/5\n",
            "36/36 [==============================] - 10s 284ms/step - loss: 0.7394 - accuracy: 0.6699 - val_loss: 0.6816 - val_accuracy: 0.6986\n",
            "Epoch 4/5\n",
            "36/36 [==============================] - 11s 308ms/step - loss: 0.5793 - accuracy: 0.7631 - val_loss: 0.6005 - val_accuracy: 0.7352\n",
            "Epoch 5/5\n",
            "36/36 [==============================] - 9s 244ms/step - loss: 0.5020 - accuracy: 0.7787 - val_loss: 0.5338 - val_accuracy: 0.7735\n",
            "36/36 [==============================] - 3s 76ms/step - loss: 0.5518 - accuracy: 0.7875\n"
          ]
        },
        {
          "output_type": "stream",
          "name": "stderr",
          "text": [
            "WARNING:absl:`lr` is deprecated in Keras optimizer, please use `learning_rate` or use the legacy optimizer, e.g.,tf.keras.optimizers.legacy.Adam.\n"
          ]
        },
        {
          "output_type": "stream",
          "name": "stdout",
          "text": [
            "Epoch 1/10\n",
            "36/36 [==============================] - 11s 250ms/step - loss: 1.1564 - accuracy: 0.4660 - val_loss: 0.9044 - val_accuracy: 0.6638\n",
            "Epoch 2/10\n",
            "36/36 [==============================] - 11s 298ms/step - loss: 0.8533 - accuracy: 0.6350 - val_loss: 0.7842 - val_accuracy: 0.6899\n",
            "Epoch 3/10\n",
            "36/36 [==============================] - 11s 294ms/step - loss: 0.6409 - accuracy: 0.7282 - val_loss: 0.5939 - val_accuracy: 0.7491\n",
            "Epoch 4/10\n",
            "36/36 [==============================] - 9s 243ms/step - loss: 0.5096 - accuracy: 0.7831 - val_loss: 0.5751 - val_accuracy: 0.7700\n",
            "Epoch 5/10\n",
            "36/36 [==============================] - 10s 284ms/step - loss: 0.4111 - accuracy: 0.8423 - val_loss: 0.5534 - val_accuracy: 0.7857\n",
            "Epoch 6/10\n",
            "36/36 [==============================] - 11s 298ms/step - loss: 0.3159 - accuracy: 0.8841 - val_loss: 0.4768 - val_accuracy: 0.8171\n",
            "Epoch 7/10\n",
            "36/36 [==============================] - 9s 243ms/step - loss: 0.3060 - accuracy: 0.8850 - val_loss: 0.5242 - val_accuracy: 0.8101\n",
            "Epoch 8/10\n",
            "36/36 [==============================] - 10s 275ms/step - loss: 0.1740 - accuracy: 0.9416 - val_loss: 0.5195 - val_accuracy: 0.8118\n",
            "Epoch 9/10\n",
            "36/36 [==============================] - 11s 297ms/step - loss: 0.1547 - accuracy: 0.9451 - val_loss: 0.5005 - val_accuracy: 0.8362\n",
            "Epoch 10/10\n",
            "36/36 [==============================] - 9s 242ms/step - loss: 0.1413 - accuracy: 0.9434 - val_loss: 0.5017 - val_accuracy: 0.8293\n",
            "36/36 [==============================] - 2s 47ms/step - loss: 0.5174 - accuracy: 0.8258\n"
          ]
        },
        {
          "output_type": "stream",
          "name": "stderr",
          "text": [
            "WARNING:absl:`lr` is deprecated in Keras optimizer, please use `learning_rate` or use the legacy optimizer, e.g.,tf.keras.optimizers.legacy.Adam.\n"
          ]
        },
        {
          "output_type": "stream",
          "name": "stdout",
          "text": [
            "Epoch 1/10\n",
            "36/36 [==============================] - 12s 303ms/step - loss: 1.2243 - accuracy: 0.4329 - val_loss: 1.0366 - val_accuracy: 0.5557\n",
            "Epoch 2/10\n",
            "36/36 [==============================] - 10s 287ms/step - loss: 0.9062 - accuracy: 0.5967 - val_loss: 0.7339 - val_accuracy: 0.6498\n",
            "Epoch 3/10\n",
            "36/36 [==============================] - 9s 243ms/step - loss: 0.6995 - accuracy: 0.7047 - val_loss: 0.6728 - val_accuracy: 0.6934\n",
            "Epoch 4/10\n",
            "36/36 [==============================] - 11s 298ms/step - loss: 0.5446 - accuracy: 0.7666 - val_loss: 0.5965 - val_accuracy: 0.7404\n",
            "Epoch 5/10\n",
            "36/36 [==============================] - 10s 290ms/step - loss: 0.4523 - accuracy: 0.8110 - val_loss: 0.6288 - val_accuracy: 0.7631\n",
            "Epoch 6/10\n",
            "36/36 [==============================] - 9s 244ms/step - loss: 0.3559 - accuracy: 0.8528 - val_loss: 0.4884 - val_accuracy: 0.7944\n",
            "Epoch 7/10\n",
            "36/36 [==============================] - 11s 300ms/step - loss: 0.2863 - accuracy: 0.8885 - val_loss: 0.4272 - val_accuracy: 0.8484\n",
            "Epoch 8/10\n",
            "36/36 [==============================] - 11s 301ms/step - loss: 0.1753 - accuracy: 0.9355 - val_loss: 0.5423 - val_accuracy: 0.8206\n",
            "Epoch 9/10\n",
            "36/36 [==============================] - 9s 244ms/step - loss: 0.1503 - accuracy: 0.9408 - val_loss: 0.4448 - val_accuracy: 0.8659\n",
            "Epoch 10/10\n",
            "36/36 [==============================] - 10s 287ms/step - loss: 0.0838 - accuracy: 0.9765 - val_loss: 0.5355 - val_accuracy: 0.8345\n",
            "36/36 [==============================] - 3s 83ms/step - loss: 0.6455 - accuracy: 0.8371\n"
          ]
        },
        {
          "output_type": "stream",
          "name": "stderr",
          "text": [
            "WARNING:absl:`lr` is deprecated in Keras optimizer, please use `learning_rate` or use the legacy optimizer, e.g.,tf.keras.optimizers.legacy.Adam.\n"
          ]
        },
        {
          "output_type": "stream",
          "name": "stdout",
          "text": [
            "Epoch 1/10\n",
            "18/18 [==============================] - 9s 399ms/step - loss: 1.2391 - accuracy: 0.4312 - val_loss: 1.0804 - val_accuracy: 0.4791\n",
            "Epoch 2/10\n",
            "18/18 [==============================] - 9s 504ms/step - loss: 0.9441 - accuracy: 0.5889 - val_loss: 0.8293 - val_accuracy: 0.6655\n",
            "Epoch 3/10\n",
            "18/18 [==============================] - 7s 418ms/step - loss: 0.7526 - accuracy: 0.6794 - val_loss: 0.7319 - val_accuracy: 0.6690\n",
            "Epoch 4/10\n",
            "18/18 [==============================] - 9s 492ms/step - loss: 0.6780 - accuracy: 0.7169 - val_loss: 0.7289 - val_accuracy: 0.6760\n",
            "Epoch 5/10\n",
            "18/18 [==============================] - 10s 571ms/step - loss: 0.5810 - accuracy: 0.7578 - val_loss: 0.6031 - val_accuracy: 0.7509\n",
            "Epoch 6/10\n",
            "18/18 [==============================] - 7s 385ms/step - loss: 0.5143 - accuracy: 0.7796 - val_loss: 0.6230 - val_accuracy: 0.7474\n",
            "Epoch 7/10\n",
            "18/18 [==============================] - 9s 503ms/step - loss: 0.4467 - accuracy: 0.8145 - val_loss: 0.5633 - val_accuracy: 0.7927\n",
            "Epoch 8/10\n",
            "18/18 [==============================] - 7s 385ms/step - loss: 0.3304 - accuracy: 0.8641 - val_loss: 0.5273 - val_accuracy: 0.8118\n",
            "Epoch 9/10\n",
            "18/18 [==============================] - 9s 503ms/step - loss: 0.2505 - accuracy: 0.9077 - val_loss: 0.5406 - val_accuracy: 0.8031\n",
            "Epoch 10/10\n",
            "18/18 [==============================] - 7s 420ms/step - loss: 0.2251 - accuracy: 0.9146 - val_loss: 0.4850 - val_accuracy: 0.8275\n",
            "18/18 [==============================] - 3s 148ms/step - loss: 0.4827 - accuracy: 0.8057\n"
          ]
        },
        {
          "output_type": "stream",
          "name": "stderr",
          "text": [
            "WARNING:absl:`lr` is deprecated in Keras optimizer, please use `learning_rate` or use the legacy optimizer, e.g.,tf.keras.optimizers.legacy.Adam.\n"
          ]
        },
        {
          "output_type": "stream",
          "name": "stdout",
          "text": [
            "Epoch 1/10\n",
            "18/18 [==============================] - 10s 512ms/step - loss: 1.2445 - accuracy: 0.4268 - val_loss: 1.0991 - val_accuracy: 0.4930\n",
            "Epoch 2/10\n",
            "18/18 [==============================] - 8s 420ms/step - loss: 0.9933 - accuracy: 0.5706 - val_loss: 0.8396 - val_accuracy: 0.6324\n",
            "Epoch 3/10\n",
            "18/18 [==============================] - 9s 506ms/step - loss: 0.7672 - accuracy: 0.6646 - val_loss: 0.7481 - val_accuracy: 0.6446\n",
            "Epoch 4/10\n",
            "18/18 [==============================] - 7s 384ms/step - loss: 0.6247 - accuracy: 0.7282 - val_loss: 0.7076 - val_accuracy: 0.6986\n",
            "Epoch 5/10\n",
            "18/18 [==============================] - 9s 535ms/step - loss: 0.5708 - accuracy: 0.7491 - val_loss: 0.6228 - val_accuracy: 0.7422\n",
            "Epoch 6/10\n",
            "18/18 [==============================] - 8s 421ms/step - loss: 0.4815 - accuracy: 0.7953 - val_loss: 0.5960 - val_accuracy: 0.7439\n",
            "Epoch 7/10\n",
            "18/18 [==============================] - 9s 494ms/step - loss: 0.4505 - accuracy: 0.8040 - val_loss: 0.4792 - val_accuracy: 0.8031\n",
            "Epoch 8/10\n",
            "18/18 [==============================] - 10s 580ms/step - loss: 0.3541 - accuracy: 0.8632 - val_loss: 0.4709 - val_accuracy: 0.8101\n",
            "Epoch 9/10\n",
            "18/18 [==============================] - 7s 418ms/step - loss: 0.3009 - accuracy: 0.8720 - val_loss: 0.4609 - val_accuracy: 0.8258\n",
            "Epoch 10/10\n",
            "18/18 [==============================] - 9s 538ms/step - loss: 0.2247 - accuracy: 0.9146 - val_loss: 0.4611 - val_accuracy: 0.8188\n",
            "18/18 [==============================] - 3s 148ms/step - loss: 0.5273 - accuracy: 0.8075\n"
          ]
        },
        {
          "output_type": "stream",
          "name": "stderr",
          "text": [
            "WARNING:absl:`lr` is deprecated in Keras optimizer, please use `learning_rate` or use the legacy optimizer, e.g.,tf.keras.optimizers.legacy.Adam.\n"
          ]
        },
        {
          "output_type": "stream",
          "name": "stdout",
          "text": [
            "Epoch 1/5\n",
            "36/36 [==============================] - 11s 248ms/step - loss: 1.1402 - accuracy: 0.4713 - val_loss: 0.9076 - val_accuracy: 0.5610\n",
            "Epoch 2/5\n",
            "36/36 [==============================] - 11s 298ms/step - loss: 0.7940 - accuracy: 0.6498 - val_loss: 0.9268 - val_accuracy: 0.5958\n",
            "Epoch 3/5\n",
            "36/36 [==============================] - 11s 297ms/step - loss: 0.6304 - accuracy: 0.7291 - val_loss: 0.6382 - val_accuracy: 0.7038\n",
            "Epoch 4/5\n",
            "36/36 [==============================] - 9s 244ms/step - loss: 0.5100 - accuracy: 0.7840 - val_loss: 0.6328 - val_accuracy: 0.7334\n",
            "Epoch 5/5\n",
            "36/36 [==============================] - 10s 283ms/step - loss: 0.3943 - accuracy: 0.8449 - val_loss: 0.6698 - val_accuracy: 0.7544\n",
            "36/36 [==============================] - 2s 48ms/step - loss: 0.6725 - accuracy: 0.7605\n"
          ]
        },
        {
          "output_type": "stream",
          "name": "stderr",
          "text": [
            "WARNING:absl:`lr` is deprecated in Keras optimizer, please use `learning_rate` or use the legacy optimizer, e.g.,tf.keras.optimizers.legacy.Adam.\n"
          ]
        },
        {
          "output_type": "stream",
          "name": "stdout",
          "text": [
            "Epoch 1/5\n",
            "36/36 [==============================] - 13s 320ms/step - loss: 1.1971 - accuracy: 0.4913 - val_loss: 1.0497 - val_accuracy: 0.5819\n",
            "Epoch 2/5\n",
            "36/36 [==============================] - 9s 245ms/step - loss: 0.8419 - accuracy: 0.6298 - val_loss: 0.7610 - val_accuracy: 0.6655\n",
            "Epoch 3/5\n",
            "36/36 [==============================] - 10s 286ms/step - loss: 0.6466 - accuracy: 0.7195 - val_loss: 0.6727 - val_accuracy: 0.7003\n",
            "Epoch 4/5\n",
            "36/36 [==============================] - 11s 298ms/step - loss: 0.5119 - accuracy: 0.7735 - val_loss: 0.5023 - val_accuracy: 0.7927\n",
            "Epoch 5/5\n",
            "36/36 [==============================] - 9s 244ms/step - loss: 0.3830 - accuracy: 0.8319 - val_loss: 0.5131 - val_accuracy: 0.7944\n",
            "36/36 [==============================] - 2s 47ms/step - loss: 0.5126 - accuracy: 0.8057\n"
          ]
        },
        {
          "output_type": "stream",
          "name": "stderr",
          "text": [
            "WARNING:absl:`lr` is deprecated in Keras optimizer, please use `learning_rate` or use the legacy optimizer, e.g.,tf.keras.optimizers.legacy.Adam.\n"
          ]
        },
        {
          "output_type": "stream",
          "name": "stdout",
          "text": [
            "Epoch 1/5\n",
            "18/18 [==============================] - 11s 547ms/step - loss: 1.2393 - accuracy: 0.4408 - val_loss: 1.0598 - val_accuracy: 0.5261\n",
            "Epoch 2/5\n",
            "18/18 [==============================] - 8s 423ms/step - loss: 0.9390 - accuracy: 0.5784 - val_loss: 0.8081 - val_accuracy: 0.6289\n",
            "Epoch 3/5\n",
            "18/18 [==============================] - 9s 497ms/step - loss: 0.7634 - accuracy: 0.6733 - val_loss: 0.7988 - val_accuracy: 0.6272\n",
            "Epoch 4/5\n",
            "18/18 [==============================] - 10s 571ms/step - loss: 0.6767 - accuracy: 0.7030 - val_loss: 0.8130 - val_accuracy: 0.6725\n",
            "Epoch 5/5\n",
            "18/18 [==============================] - 7s 388ms/step - loss: 0.5455 - accuracy: 0.7787 - val_loss: 0.5721 - val_accuracy: 0.7526\n",
            "18/18 [==============================] - 2s 125ms/step - loss: 0.5656 - accuracy: 0.7517\n"
          ]
        },
        {
          "output_type": "stream",
          "name": "stderr",
          "text": [
            "WARNING:absl:`lr` is deprecated in Keras optimizer, please use `learning_rate` or use the legacy optimizer, e.g.,tf.keras.optimizers.legacy.Adam.\n"
          ]
        },
        {
          "output_type": "stream",
          "name": "stdout",
          "text": [
            "Epoch 1/5\n",
            "18/18 [==============================] - 10s 432ms/step - loss: 1.2213 - accuracy: 0.4512 - val_loss: 1.0407 - val_accuracy: 0.5261\n",
            "Epoch 2/5\n",
            "18/18 [==============================] - 9s 504ms/step - loss: 0.9964 - accuracy: 0.5723 - val_loss: 0.8673 - val_accuracy: 0.6220\n",
            "Epoch 3/5\n",
            "18/18 [==============================] - 8s 422ms/step - loss: 0.7999 - accuracy: 0.6568 - val_loss: 0.7799 - val_accuracy: 0.6516\n",
            "Epoch 4/5\n",
            "18/18 [==============================] - 10s 538ms/step - loss: 0.6659 - accuracy: 0.7082 - val_loss: 0.6251 - val_accuracy: 0.7369\n",
            "Epoch 5/5\n",
            "18/18 [==============================] - 8s 468ms/step - loss: 0.5114 - accuracy: 0.7997 - val_loss: 0.5803 - val_accuracy: 0.7578\n",
            "18/18 [==============================] - 2s 85ms/step - loss: 0.5920 - accuracy: 0.7657\n"
          ]
        },
        {
          "output_type": "stream",
          "name": "stderr",
          "text": [
            "WARNING:absl:`lr` is deprecated in Keras optimizer, please use `learning_rate` or use the legacy optimizer, e.g.,tf.keras.optimizers.legacy.Adam.\n"
          ]
        },
        {
          "output_type": "stream",
          "name": "stdout",
          "text": [
            "Epoch 1/10\n",
            "36/36 [==============================] - 12s 304ms/step - loss: 1.2625 - accuracy: 0.4268 - val_loss: 1.0944 - val_accuracy: 0.4983\n",
            "Epoch 2/10\n",
            "36/36 [==============================] - 9s 245ms/step - loss: 1.0216 - accuracy: 0.5636 - val_loss: 0.9000 - val_accuracy: 0.5592\n",
            "Epoch 3/10\n",
            "36/36 [==============================] - 10s 284ms/step - loss: 0.8110 - accuracy: 0.6481 - val_loss: 0.8141 - val_accuracy: 0.6289\n",
            "Epoch 4/10\n",
            "36/36 [==============================] - 11s 298ms/step - loss: 0.6956 - accuracy: 0.7099 - val_loss: 0.6531 - val_accuracy: 0.7003\n",
            "Epoch 5/10\n",
            "36/36 [==============================] - 10s 279ms/step - loss: 0.5869 - accuracy: 0.7587 - val_loss: 0.6736 - val_accuracy: 0.7230\n",
            "Epoch 6/10\n",
            "36/36 [==============================] - 9s 251ms/step - loss: 0.5087 - accuracy: 0.7883 - val_loss: 0.5370 - val_accuracy: 0.7840\n",
            "Epoch 7/10\n",
            "36/36 [==============================] - 11s 299ms/step - loss: 0.3985 - accuracy: 0.8571 - val_loss: 0.5509 - val_accuracy: 0.7962\n",
            "Epoch 8/10\n",
            "36/36 [==============================] - 11s 309ms/step - loss: 0.3587 - accuracy: 0.8589 - val_loss: 0.4502 - val_accuracy: 0.8275\n",
            "Epoch 9/10\n",
            "36/36 [==============================] - 9s 243ms/step - loss: 0.2611 - accuracy: 0.9042 - val_loss: 0.4920 - val_accuracy: 0.8223\n",
            "Epoch 10/10\n",
            "36/36 [==============================] - 11s 299ms/step - loss: 0.2215 - accuracy: 0.9138 - val_loss: 0.4815 - val_accuracy: 0.8432\n",
            "36/36 [==============================] - 2s 48ms/step - loss: 0.4721 - accuracy: 0.8188\n"
          ]
        },
        {
          "output_type": "stream",
          "name": "stderr",
          "text": [
            "WARNING:absl:`lr` is deprecated in Keras optimizer, please use `learning_rate` or use the legacy optimizer, e.g.,tf.keras.optimizers.legacy.Adam.\n"
          ]
        },
        {
          "output_type": "stream",
          "name": "stdout",
          "text": [
            "Epoch 1/10\n",
            "36/36 [==============================] - 12s 302ms/step - loss: 1.2376 - accuracy: 0.4312 - val_loss: 1.1390 - val_accuracy: 0.4686\n",
            "Epoch 2/10\n",
            "36/36 [==============================] - 11s 297ms/step - loss: 1.0067 - accuracy: 0.5497 - val_loss: 0.8241 - val_accuracy: 0.6516\n",
            "Epoch 3/10\n",
            "36/36 [==============================] - 9s 243ms/step - loss: 0.7679 - accuracy: 0.6594 - val_loss: 0.6654 - val_accuracy: 0.6672\n",
            "Epoch 4/10\n",
            "36/36 [==============================] - 10s 280ms/step - loss: 0.6672 - accuracy: 0.6925 - val_loss: 0.6408 - val_accuracy: 0.7195\n",
            "Epoch 5/10\n",
            "36/36 [==============================] - 11s 297ms/step - loss: 0.5460 - accuracy: 0.7613 - val_loss: 0.5307 - val_accuracy: 0.7927\n",
            "Epoch 6/10\n",
            "36/36 [==============================] - 10s 281ms/step - loss: 0.4667 - accuracy: 0.8118 - val_loss: 0.5396 - val_accuracy: 0.7578\n",
            "Epoch 7/10\n",
            "36/36 [==============================] - 9s 251ms/step - loss: 0.3911 - accuracy: 0.8441 - val_loss: 0.4704 - val_accuracy: 0.8136\n",
            "Epoch 8/10\n",
            "36/36 [==============================] - 11s 297ms/step - loss: 0.2953 - accuracy: 0.8746 - val_loss: 0.4738 - val_accuracy: 0.8066\n",
            "Epoch 9/10\n",
            "36/36 [==============================] - 10s 286ms/step - loss: 0.2565 - accuracy: 0.9077 - val_loss: 0.4430 - val_accuracy: 0.8310\n",
            "Epoch 10/10\n",
            "36/36 [==============================] - 9s 243ms/step - loss: 0.1943 - accuracy: 0.9268 - val_loss: 0.4978 - val_accuracy: 0.8310\n",
            "36/36 [==============================] - 2s 62ms/step - loss: 0.5095 - accuracy: 0.8397\n"
          ]
        },
        {
          "output_type": "stream",
          "name": "stderr",
          "text": [
            "WARNING:absl:`lr` is deprecated in Keras optimizer, please use `learning_rate` or use the legacy optimizer, e.g.,tf.keras.optimizers.legacy.Adam.\n"
          ]
        },
        {
          "output_type": "stream",
          "name": "stdout",
          "text": [
            "Epoch 1/5\n",
            "36/36 [==============================] - 11s 252ms/step - loss: 1.2511 - accuracy: 0.4390 - val_loss: 1.0255 - val_accuracy: 0.5314\n",
            "Epoch 2/5\n",
            "36/36 [==============================] - 11s 299ms/step - loss: 0.9138 - accuracy: 0.6054 - val_loss: 0.7641 - val_accuracy: 0.6707\n",
            "Epoch 3/5\n",
            "36/36 [==============================] - 11s 316ms/step - loss: 0.7669 - accuracy: 0.6768 - val_loss: 0.7109 - val_accuracy: 0.6655\n",
            "Epoch 4/5\n",
            "36/36 [==============================] - 9s 243ms/step - loss: 0.6466 - accuracy: 0.7160 - val_loss: 0.5897 - val_accuracy: 0.7578\n",
            "Epoch 5/5\n",
            "36/36 [==============================] - 11s 297ms/step - loss: 0.5870 - accuracy: 0.7526 - val_loss: 0.6619 - val_accuracy: 0.7160\n",
            "36/36 [==============================] - 2s 47ms/step - loss: 0.6432 - accuracy: 0.7334\n"
          ]
        },
        {
          "output_type": "stream",
          "name": "stderr",
          "text": [
            "WARNING:absl:`lr` is deprecated in Keras optimizer, please use `learning_rate` or use the legacy optimizer, e.g.,tf.keras.optimizers.legacy.Adam.\n"
          ]
        },
        {
          "output_type": "stream",
          "name": "stdout",
          "text": [
            "Epoch 1/5\n",
            "36/36 [==============================] - 12s 290ms/step - loss: 1.2294 - accuracy: 0.4355 - val_loss: 1.0992 - val_accuracy: 0.4895\n",
            "Epoch 2/5\n",
            "36/36 [==============================] - 10s 285ms/step - loss: 1.0039 - accuracy: 0.5566 - val_loss: 0.8034 - val_accuracy: 0.6638\n",
            "Epoch 3/5\n",
            "36/36 [==============================] - 9s 245ms/step - loss: 0.7694 - accuracy: 0.6498 - val_loss: 0.7533 - val_accuracy: 0.6655\n",
            "Epoch 4/5\n",
            "36/36 [==============================] - 11s 298ms/step - loss: 0.6767 - accuracy: 0.7082 - val_loss: 0.7100 - val_accuracy: 0.7160\n",
            "Epoch 5/5\n",
            "36/36 [==============================] - 10s 283ms/step - loss: 0.5750 - accuracy: 0.7483 - val_loss: 0.5707 - val_accuracy: 0.7596\n",
            "36/36 [==============================] - 2s 47ms/step - loss: 0.5682 - accuracy: 0.7761\n"
          ]
        },
        {
          "output_type": "stream",
          "name": "stderr",
          "text": [
            "WARNING:absl:`lr` is deprecated in Keras optimizer, please use `learning_rate` or use the legacy optimizer, e.g.,tf.keras.optimizers.legacy.Adam.\n"
          ]
        },
        {
          "output_type": "stream",
          "name": "stdout",
          "text": [
            "Epoch 1/5\n",
            "18/18 [==============================] - 11s 448ms/step - loss: 1.2294 - accuracy: 0.4503 - val_loss: 1.0768 - val_accuracy: 0.4512\n",
            "Epoch 2/5\n",
            "18/18 [==============================] - 9s 532ms/step - loss: 0.9741 - accuracy: 0.5697 - val_loss: 0.9059 - val_accuracy: 0.5575\n",
            "Epoch 3/5\n",
            "18/18 [==============================] - 7s 389ms/step - loss: 0.7702 - accuracy: 0.6733 - val_loss: 0.6929 - val_accuracy: 0.7056\n",
            "Epoch 4/5\n",
            "18/18 [==============================] - 9s 535ms/step - loss: 0.6520 - accuracy: 0.7134 - val_loss: 0.7435 - val_accuracy: 0.6324\n",
            "Epoch 5/5\n",
            "18/18 [==============================] - 7s 418ms/step - loss: 0.6284 - accuracy: 0.7213 - val_loss: 0.5839 - val_accuracy: 0.7491\n",
            "18/18 [==============================] - 2s 86ms/step - loss: 0.5821 - accuracy: 0.7509\n"
          ]
        },
        {
          "output_type": "stream",
          "name": "stderr",
          "text": [
            "WARNING:absl:`lr` is deprecated in Keras optimizer, please use `learning_rate` or use the legacy optimizer, e.g.,tf.keras.optimizers.legacy.Adam.\n"
          ]
        },
        {
          "output_type": "stream",
          "name": "stdout",
          "text": [
            "Epoch 1/5\n",
            "18/18 [==============================] - 11s 533ms/step - loss: 1.2279 - accuracy: 0.4434 - val_loss: 1.1176 - val_accuracy: 0.5139\n",
            "Epoch 2/5\n",
            "18/18 [==============================] - 8s 423ms/step - loss: 1.0263 - accuracy: 0.5671 - val_loss: 0.9070 - val_accuracy: 0.5941\n",
            "Epoch 3/5\n",
            "18/18 [==============================] - 9s 505ms/step - loss: 0.8925 - accuracy: 0.6141 - val_loss: 0.8149 - val_accuracy: 0.6202\n",
            "Epoch 4/5\n",
            "18/18 [==============================] - 8s 420ms/step - loss: 0.7354 - accuracy: 0.6681 - val_loss: 0.8029 - val_accuracy: 0.6376\n",
            "Epoch 5/5\n",
            "18/18 [==============================] - 9s 538ms/step - loss: 0.6006 - accuracy: 0.7474 - val_loss: 0.5829 - val_accuracy: 0.7369\n",
            "18/18 [==============================] - 2s 87ms/step - loss: 0.5970 - accuracy: 0.7535\n"
          ]
        },
        {
          "output_type": "stream",
          "name": "stderr",
          "text": [
            "WARNING:absl:`lr` is deprecated in Keras optimizer, please use `learning_rate` or use the legacy optimizer, e.g.,tf.keras.optimizers.legacy.Adam.\n"
          ]
        },
        {
          "output_type": "stream",
          "name": "stdout",
          "text": [
            "Epoch 1/5\n",
            "18/18 [==============================] - 11s 546ms/step - loss: 1.2165 - accuracy: 0.4338 - val_loss: 1.0591 - val_accuracy: 0.5052\n",
            "Epoch 2/5\n",
            "18/18 [==============================] - 9s 506ms/step - loss: 0.9531 - accuracy: 0.5810 - val_loss: 0.8485 - val_accuracy: 0.6010\n",
            "Epoch 3/5\n",
            "18/18 [==============================] - 7s 383ms/step - loss: 0.7570 - accuracy: 0.6733 - val_loss: 0.7062 - val_accuracy: 0.6812\n",
            "Epoch 4/5\n",
            "18/18 [==============================] - 9s 538ms/step - loss: 0.6283 - accuracy: 0.7448 - val_loss: 0.6497 - val_accuracy: 0.7195\n",
            "Epoch 5/5\n",
            "18/18 [==============================] - 7s 419ms/step - loss: 0.5335 - accuracy: 0.7744 - val_loss: 0.6231 - val_accuracy: 0.7509\n",
            "18/18 [==============================] - 3s 148ms/step - loss: 0.6014 - accuracy: 0.7491\n"
          ]
        },
        {
          "output_type": "stream",
          "name": "stderr",
          "text": [
            "WARNING:absl:`lr` is deprecated in Keras optimizer, please use `learning_rate` or use the legacy optimizer, e.g.,tf.keras.optimizers.legacy.Adam.\n"
          ]
        },
        {
          "output_type": "stream",
          "name": "stdout",
          "text": [
            "Epoch 1/5\n",
            "18/18 [==============================] - 9s 434ms/step - loss: 1.2918 - accuracy: 0.3955 - val_loss: 1.1244 - val_accuracy: 0.4739\n",
            "Epoch 2/5\n",
            "18/18 [==============================] - 9s 489ms/step - loss: 1.0282 - accuracy: 0.5653 - val_loss: 0.9170 - val_accuracy: 0.5993\n",
            "Epoch 3/5\n",
            "18/18 [==============================] - 9s 507ms/step - loss: 0.8192 - accuracy: 0.6490 - val_loss: 0.7966 - val_accuracy: 0.6359\n",
            "Epoch 4/5\n",
            "18/18 [==============================] - 7s 390ms/step - loss: 0.7160 - accuracy: 0.6890 - val_loss: 0.6776 - val_accuracy: 0.6847\n",
            "Epoch 5/5\n",
            "18/18 [==============================] - 9s 536ms/step - loss: 0.6084 - accuracy: 0.7343 - val_loss: 0.6454 - val_accuracy: 0.7108\n",
            "18/18 [==============================] - 2s 85ms/step - loss: 0.6388 - accuracy: 0.7221\n"
          ]
        },
        {
          "output_type": "stream",
          "name": "stderr",
          "text": [
            "WARNING:absl:`lr` is deprecated in Keras optimizer, please use `learning_rate` or use the legacy optimizer, e.g.,tf.keras.optimizers.legacy.Adam.\n"
          ]
        },
        {
          "output_type": "stream",
          "name": "stdout",
          "text": [
            "Epoch 1/5\n",
            "36/36 [==============================] - 12s 302ms/step - loss: 1.1975 - accuracy: 0.4704 - val_loss: 1.0811 - val_accuracy: 0.5557\n",
            "Epoch 2/5\n",
            "36/36 [==============================] - 10s 279ms/step - loss: 0.9106 - accuracy: 0.6028 - val_loss: 0.7400 - val_accuracy: 0.6551\n",
            "Epoch 3/5\n",
            "36/36 [==============================] - 9s 250ms/step - loss: 0.6886 - accuracy: 0.7091 - val_loss: 0.6499 - val_accuracy: 0.6916\n",
            "Epoch 4/5\n",
            "36/36 [==============================] - 11s 297ms/step - loss: 0.5605 - accuracy: 0.7779 - val_loss: 0.5904 - val_accuracy: 0.7596\n",
            "Epoch 5/5\n",
            "36/36 [==============================] - 11s 316ms/step - loss: 0.4885 - accuracy: 0.8084 - val_loss: 0.5489 - val_accuracy: 0.7927\n",
            "36/36 [==============================] - 2s 47ms/step - loss: 0.5229 - accuracy: 0.7875\n"
          ]
        },
        {
          "output_type": "stream",
          "name": "stderr",
          "text": [
            "WARNING:absl:`lr` is deprecated in Keras optimizer, please use `learning_rate` or use the legacy optimizer, e.g.,tf.keras.optimizers.legacy.Adam.\n"
          ]
        },
        {
          "output_type": "stream",
          "name": "stdout",
          "text": [
            "Epoch 1/5\n",
            "36/36 [==============================] - 12s 304ms/step - loss: 1.2142 - accuracy: 0.4625 - val_loss: 0.9821 - val_accuracy: 0.5784\n",
            "Epoch 2/5\n",
            "36/36 [==============================] - 11s 300ms/step - loss: 0.8546 - accuracy: 0.6437 - val_loss: 0.6977 - val_accuracy: 0.6847\n",
            "Epoch 3/5\n",
            "36/36 [==============================] - 8s 234ms/step - loss: 0.7137 - accuracy: 0.6838 - val_loss: 0.6895 - val_accuracy: 0.6760\n",
            "Epoch 4/5\n",
            "36/36 [==============================] - 11s 291ms/step - loss: 0.5530 - accuracy: 0.7561 - val_loss: 0.5397 - val_accuracy: 0.7648\n",
            "Epoch 5/5\n",
            "36/36 [==============================] - 11s 298ms/step - loss: 0.4727 - accuracy: 0.8066 - val_loss: 0.4932 - val_accuracy: 0.7962\n",
            "36/36 [==============================] - 2s 48ms/step - loss: 0.5146 - accuracy: 0.8014\n"
          ]
        },
        {
          "output_type": "stream",
          "name": "stderr",
          "text": [
            "WARNING:absl:`lr` is deprecated in Keras optimizer, please use `learning_rate` or use the legacy optimizer, e.g.,tf.keras.optimizers.legacy.Adam.\n"
          ]
        },
        {
          "output_type": "stream",
          "name": "stdout",
          "text": [
            "Epoch 1/10\n",
            "72/72 [==============================] - 19s 254ms/step - loss: 1.0031 - accuracy: 0.5623 - val_loss: 0.7625 - val_accuracy: 0.6603\n",
            "Epoch 2/10\n",
            "72/72 [==============================] - 20s 272ms/step - loss: 0.6124 - accuracy: 0.7439 - val_loss: 0.5128 - val_accuracy: 0.7927\n",
            "Epoch 3/10\n",
            "72/72 [==============================] - 18s 251ms/step - loss: 0.4550 - accuracy: 0.8166 - val_loss: 0.4051 - val_accuracy: 0.8432\n",
            "Epoch 4/10\n",
            "72/72 [==============================] - 18s 252ms/step - loss: 0.3223 - accuracy: 0.8776 - val_loss: 0.3298 - val_accuracy: 0.8659\n",
            "Epoch 5/10\n",
            "72/72 [==============================] - 19s 272ms/step - loss: 0.2272 - accuracy: 0.9103 - val_loss: 0.3987 - val_accuracy: 0.8606\n",
            "Epoch 6/10\n",
            "72/72 [==============================] - 18s 249ms/step - loss: 0.1919 - accuracy: 0.9247 - val_loss: 0.4524 - val_accuracy: 0.8240\n",
            "Epoch 7/10\n",
            "72/72 [==============================] - 18s 253ms/step - loss: 0.1326 - accuracy: 0.9543 - val_loss: 0.3301 - val_accuracy: 0.8885\n",
            "Epoch 8/10\n",
            "72/72 [==============================] - 18s 252ms/step - loss: 0.0826 - accuracy: 0.9673 - val_loss: 0.4186 - val_accuracy: 0.8763\n",
            "Epoch 9/10\n",
            "72/72 [==============================] - 21s 288ms/step - loss: 0.0732 - accuracy: 0.9747 - val_loss: 0.3489 - val_accuracy: 0.9164\n",
            "Epoch 10/10\n",
            "72/72 [==============================] - 18s 252ms/step - loss: 0.0410 - accuracy: 0.9852 - val_loss: 0.3576 - val_accuracy: 0.9077\n",
            "Best parameters:  {'epochs': 10, 'dropout_rate2': 0.2, 'dropout_rate1': 0.2, 'batch_size': 32}\n",
            "Best accuracy:  0.8314459919929504\n",
            "Test loss: 3.5509\n",
            "Test accuracy: 0.6827\n",
            "Validation loss: 0.3576\n",
            "Validation accuracy: 0.9077\n"
          ]
        }
      ]
    }
  ]
}